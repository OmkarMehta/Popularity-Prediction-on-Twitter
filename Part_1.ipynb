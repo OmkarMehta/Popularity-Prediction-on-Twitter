{
 "cells": [
  {
   "cell_type": "markdown",
   "metadata": {},
   "source": [
    "# Part 1: Popularity Prediction on Twitter\n",
    "\n",
    "A useful practice in social network analysis is to predict future popu-\n",
    "larity of a subject or event.\n",
    "\n",
    "Download training data from [here](https://ucla.box.com/s/nv9td9kvvfvg3tya0dlvbs1kn5o87gmv). This data is collected by querying popular hashtags to the 2015 Superbowl spanning a period from 2 weeks before the game to a week after the game. \n",
    "\n",
    "Twitter is a good platform to do such analysis. Given the current and previous hashtag tweet activity, can we predict the future activity of the hashtag? Let's explore. \n",
    "\n",
    "We will train a model on the data of such popular hashtags and predict the popularity of the given hashtag. We need to first prepare the data, extract features from the data and then fit the model. \n",
    "\n",
    "We will also deal with how to choose good features. \n",
    "\n",
    "We will test our model on testdata obtained from [here](https://ucla.box.com/s/ojvvthudugp9d2gze5nuep9ogwjydnur)\n",
    "The test data consists of\n",
    "tweets containing a hashtag in a specified time window, and we will use your model\n",
    "to predict number of tweets containing the hashtag posted within one hour immediately\n",
    "following the given time window."
   ]
  },
  {
   "cell_type": "markdown",
   "metadata": {},
   "source": [
    "The tweets are stored in separate files for different hashtags and files\n",
    "are named as tweet_[#hashtag].txt \n",
    "\n",
    "Training data: The tweet file contains one tweet in each line and tweets are sorted with respect\n",
    "to their posting time. Each tweet is a JSON string that you can load in Python as a\n",
    "dictionary."
   ]
  },
  {
   "cell_type": "code",
   "execution_count": 1,
   "metadata": {},
   "outputs": [],
   "source": [
    "import json"
   ]
  },
  {
   "cell_type": "code",
   "execution_count": 2,
   "metadata": {},
   "outputs": [],
   "source": [
    "import matplotlib.pyplot as plt"
   ]
  },
  {
   "cell_type": "code",
   "execution_count": 3,
   "metadata": {},
   "outputs": [],
   "source": [
    "%matplotlib inline"
   ]
  },
  {
   "cell_type": "markdown",
   "metadata": {},
   "source": [
    "# Let's explore data at first. \n",
    "I have loaded our files in Training_data folder. You can also do the same, since it helps keep our data sorted and there is no trouble in finding our file. "
   ]
  },
  {
   "cell_type": "code",
   "execution_count": 29,
   "metadata": {},
   "outputs": [],
   "source": [
    "#Extract data from the file.\n",
    "#We will create a dictionary for the sake of not repeating the code for each hashtag. Later I will create a function to do this task for us.\n",
    "\n",
    "hashtag_dictionary = {'#GoHawks' : 'tweets_#gohawks.txt',\n",
    "                          '#GoPatriots' : 'tweets_#gopatriots.txt',\n",
    "                          '#NFL' : 'tweets_#nfl.txt',\n",
    "                          '#Patriots' : 'tweets_#patriots.txt',\n",
    "                          '#SB49' : 'tweets_#sb49.txt',\n",
    "                          '#SuperBowl' : 'tweets_#superbowl.txt'}"
   ]
  },
  {
   "cell_type": "code",
   "execution_count": 39,
   "metadata": {},
   "outputs": [],
   "source": [
    "# Let's open the file with open command for #GoHawks hashtag\n",
    "file_in = open('./Training_data/'+hashtag_dictionary['#GoHawks'], encoding=\"utf8\")\n",
    "## We need to provide encoding as utf8 else you'll receive an error as follows, when you try to load the file: \n",
    "### UnicodeDecodeError: 'charmap' codec can't decode byte 0x8f in position 3836: character maps to <undefined> ###"
   ]
  },
  {
   "cell_type": "code",
   "execution_count": 40,
   "metadata": {},
   "outputs": [
    {
     "data": {
      "text/plain": [
       "{'firstpost_date': 1423304269,\n",
       " 'title': \"The ultimate broken hearted hangover week from hell (#SB49) is almost over. Listening to the blues still. We'll get'em in #SB50 #GOHAWKS\",\n",
       " 'url': 'http://twitter.com/carabear133/status/564005099874181122',\n",
       " 'tweet': {'contributors': None,\n",
       "  'truncated': False,\n",
       "  'text': \"The ultimate broken hearted hangover week from hell (#SB49) is almost over. Listening to the blues still. We'll get'em in #SB50 #GOHAWKS\",\n",
       "  'in_reply_to_status_id': None,\n",
       "  'id': 564005099874181122,\n",
       "  'favorite_count': 0,\n",
       "  'source': '<a href=\"http://twitter.com\" rel=\"nofollow\">Twitter Web Client</a>',\n",
       "  'retweeted': False,\n",
       "  'coordinates': None,\n",
       "  'timestamp_ms': '1423304269175',\n",
       "  'entities': {'symbols': [],\n",
       "   'user_mentions': [],\n",
       "   'trends': [],\n",
       "   'hashtags': [{'indices': [53, 58], 'text': 'SB49'},\n",
       "    {'indices': [122, 127], 'text': 'SB50'},\n",
       "    {'indices': [128, 136], 'text': 'GOHAWKS'}],\n",
       "   'urls': []},\n",
       "  'in_reply_to_screen_name': None,\n",
       "  'in_reply_to_user_id': None,\n",
       "  'retweet_count': 0,\n",
       "  'id_str': '564005099874181122',\n",
       "  'favorited': False,\n",
       "  'user': {'follow_request_sent': None,\n",
       "   'profile_use_background_image': False,\n",
       "   'geo_enabled': True,\n",
       "   'description': 'George Costanza would have liked me enough\\n#Seahawks #MemphisGrizzlies, #KEXP #music #133',\n",
       "   'verified': False,\n",
       "   'profile_image_url_https': 'https://pbs.twimg.com/profile_images/562515156014362624/06ImDfeD_normal.png',\n",
       "   'profile_sidebar_fill_color': '000000',\n",
       "   'is_translator': False,\n",
       "   'id': 399207553,\n",
       "   'profile_text_color': '000000',\n",
       "   'followers_count': 358,\n",
       "   'profile_sidebar_border_color': '000000',\n",
       "   'id_str': '399207553',\n",
       "   'default_profile_image': False,\n",
       "   'location': 'Seattle, WA',\n",
       "   'utc_offset': -25200,\n",
       "   'statuses_count': 3423,\n",
       "   'profile_background_color': '000000',\n",
       "   'friends_count': 493,\n",
       "   'profile_link_color': '4A913C',\n",
       "   'profile_image_url': 'http://pbs.twimg.com/profile_images/562515156014362624/06ImDfeD_normal.png',\n",
       "   'notifications': None,\n",
       "   'profile_background_image_url_https': 'https://abs.twimg.com/images/themes/theme4/bg.gif',\n",
       "   'profile_banner_url': 'https://pbs.twimg.com/profile_banners/399207553/1406715992',\n",
       "   'profile_background_image_url': 'http://abs.twimg.com/images/themes/theme4/bg.gif',\n",
       "   'name': 'Cara',\n",
       "   'lang': 'en',\n",
       "   'profile_background_tile': False,\n",
       "   'favourites_count': 2538,\n",
       "   'screen_name': 'carabear133',\n",
       "   'url': None,\n",
       "   'created_at': 'Thu Oct 27 04:39:46 +0000 2011',\n",
       "   'contributors_enabled': False,\n",
       "   'time_zone': 'Arizona',\n",
       "   'protected': False,\n",
       "   'default_profile': False,\n",
       "   'following': None,\n",
       "   'listed_count': 6},\n",
       "  'geo': None,\n",
       "  'in_reply_to_user_id_str': None,\n",
       "  'possibly_sensitive': False,\n",
       "  'lang': 'en',\n",
       "  'created_at': 'Sat Feb 07 10:17:49 +0000 2015',\n",
       "  'filter_level': 'low',\n",
       "  'in_reply_to_status_id_str': None,\n",
       "  'place': None},\n",
       " 'author': {'author_img': 'http://pbs.twimg.com/profile_images/562515156014362624/06ImDfeD_normal.png',\n",
       "  'name': 'Cara',\n",
       "  'url': 'http://twitter.com/carabear133',\n",
       "  'nick': 'carabear133',\n",
       "  'followers': 358.0,\n",
       "  'image_url': 'http://pbs.twimg.com/profile_images/562515156014362624/06ImDfeD_normal.png',\n",
       "  'type': 'twitter',\n",
       "  'description': 'George Costanza would have liked me enough\\n#Seahawks #MemphisGrizzlies, #KEXP #music #133'},\n",
       " 'original_author': {'author_img': 'http://pbs.twimg.com/profile_images/562515156014362624/06ImDfeD_normal.png',\n",
       "  'description': 'George Costanza would have liked me enough\\n#Seahawks #MemphisGrizzlies, #KEXP #music #133',\n",
       "  'url': 'http://twitter.com/carabear133',\n",
       "  'nick': 'carabear133',\n",
       "  'followers': 358.0,\n",
       "  'image_url': 'http://pbs.twimg.com/profile_images/562515156014362624/06ImDfeD_normal.png',\n",
       "  'type': 'twitter',\n",
       "  'name': 'Cara'},\n",
       " 'citation_date': 1423304269,\n",
       " 'metrics': {'acceleration': 0,\n",
       "  'ranking_score': 3.8428688,\n",
       "  'citations': {'influential': 0,\n",
       "   'total': 1,\n",
       "   'data': [{'timestamp': 1423299599, 'citations': 0},\n",
       "    {'timestamp': 1423303199, 'citations': 0}],\n",
       "   'matching': 1,\n",
       "   'replies': 0},\n",
       "  'peak': 0,\n",
       "  'impressions': 358,\n",
       "  'momentum': 0},\n",
       " 'highlight': \"The ultimate broken hearted hangover week from hell (#SB49) is almost over. Listening to the blues still. We'll get'em in #SB50 #GOHAWKS\",\n",
       " 'type': 'tweet',\n",
       " 'citation_url': 'http://twitter.com/carabear133/status/564005099874181122'}"
      ]
     },
     "execution_count": 40,
     "metadata": {},
     "output_type": "execute_result"
    }
   ],
   "source": [
    "for line in file_in:\n",
    "    data = json.loads(line)\n",
    "    \n",
    "data"
   ]
  },
  {
   "cell_type": "markdown",
   "metadata": {},
   "source": [
    "#### You can look up the time a tweet is posted by the following command."
   ]
  },
  {
   "cell_type": "code",
   "execution_count": 41,
   "metadata": {},
   "outputs": [
    {
     "data": {
      "text/plain": [
       "1423304269"
      ]
     },
     "execution_count": 41,
     "metadata": {},
     "output_type": "execute_result"
    }
   ],
   "source": [
    "time_stamp_gohawk = data['citation_date']\n",
    "time_stamp_gohawk"
   ]
  },
  {
   "cell_type": "markdown",
   "metadata": {},
   "source": [
    "### You can get the no. of followers of the person tweeting by looking at the data"
   ]
  },
  {
   "cell_type": "code",
   "execution_count": 43,
   "metadata": {},
   "outputs": [
    {
     "data": {
      "text/plain": [
       "358.0"
      ]
     },
     "execution_count": 43,
     "metadata": {},
     "output_type": "execute_result"
    }
   ],
   "source": [
    "followers_of_that_user = data['author']['followers']\n",
    "followers_of_that_user"
   ]
  },
  {
   "cell_type": "markdown",
   "metadata": {},
   "source": [
    "#### If you want to get the no of retweets for the tweet posted by him, we can do the following."
   ]
  },
  {
   "cell_type": "code",
   "execution_count": 46,
   "metadata": {},
   "outputs": [
    {
     "name": "stdout",
     "output_type": "stream",
     "text": [
      "1\n"
     ]
    },
    {
     "data": {
      "text/plain": [
       "'carabear133'"
      ]
     },
     "execution_count": 46,
     "metadata": {},
     "output_type": "execute_result"
    }
   ],
   "source": [
    "retweet_data = data['metrics']['citations']['total']\n",
    "print(retweet_data)\n",
    "\n",
    "# We can also get the username as follows\n",
    "username_of = data['author']['nick']\n",
    "username_of"
   ]
  },
  {
   "cell_type": "markdown",
   "metadata": {},
   "source": [
    "## Calculate the following for #GoHawks\n",
    "\n",
    "* Average number of tweets per hour\n",
    "* Average number of followers of users posting the tweets\n",
    "* Average number of retweets."
   ]
  },
  {
   "cell_type": "code",
   "execution_count": 48,
   "metadata": {},
   "outputs": [],
   "source": [
    "#Creating list for time_stamps, no of followers, no of retweets. Dict for followers of users.\n",
    "time_stamps = []\n",
    "no_of_followers = []\n",
    "no_of_retweets = []\n",
    "followers_of_users = dict([])"
   ]
  },
  {
   "cell_type": "code",
   "execution_count": 50,
   "metadata": {},
   "outputs": [],
   "source": [
    "file_in = open('./Training_data/'+hashtag_dictionary['#GoHawks'], encoding=\"utf8\")\n",
    "for line in file_in:\n",
    "        tr_data = json.loads(line)\n",
    "        time_stamps.append(tr_data['citation_date'])\n",
    "        no_of_followers.append(tr_data['author']['followers'])\n",
    "        no_of_retweets.append(tr_data['metrics']['citations']['total'])\n",
    "        \n",
    "        username = tr_data['author']['nick']\n",
    "        if username in followers_of_users:\n",
    "            followers_of_users[username].append(tr_data['author']['followers'])\n",
    "        else:\n",
    "            followers_of_users[username] = [tr_data['author']['followers']]\n",
    "\n",
    "file_in.close()"
   ]
  },
  {
   "cell_type": "code",
   "execution_count": 62,
   "metadata": {},
   "outputs": [],
   "source": [
    "#print(f'time_stamp:{time_stamps}')\n",
    "#print(f'no of followers: {no_of_followers}')\n",
    "#print(f'no of retweets: {no_of_retweets}')\n",
    "#print(f'followers of users dict: {followers_of_users}')"
   ]
  },
  {
   "cell_type": "code",
   "execution_count": 64,
   "metadata": {},
   "outputs": [],
   "source": [
    "#Total no of tweets\n",
    "total_no_of_tweets = float(len(time_stamps))\n",
    "#No of hours passed\n",
    "no_of_hours_passed = float(max(time_stamps)-min(time_stamps))/3600.0\n",
    "#If you take a peak at followers of users data, same no. has been repeated\n",
    "followers = []\n",
    "for user in followers_of_users:\n",
    "    followers.append(float(sum(followers_of_users[user]))/float(len(followers_of_users[user])))\n",
    "#Total no of retweets\n",
    "total_no_of_retweets = float(sum(no_of_retweets))"
   ]
  },
  {
   "cell_type": "markdown",
   "metadata": {},
   "source": [
    "## Results"
   ]
  },
  {
   "cell_type": "code",
   "execution_count": 65,
   "metadata": {},
   "outputs": [
    {
     "name": "stdout",
     "output_type": "stream",
     "text": [
      "\n",
      "------------------------------------------------------------\n",
      "\n",
      "The statistics for #GoHawks\n",
      "    Total number of tweets: 188136.0\n",
      "    Total number of users: 77584\n",
      "    Average number of tweets (per hour): 325.37159130433116\n",
      "    Average number of followers of users: 1588.1886629300582\n",
      "    Average number of retweets: 2.014617085512608\n"
     ]
    }
   ],
   "source": [
    "print('\\n------------------------------------------------------------\\n')\n",
    "print('The statistics for', '#GoHawks')\n",
    "print('    Total number of tweets:', total_no_of_tweets)\n",
    "print('    Total number of users:', len(followers))\n",
    "print('    Average number of tweets (per hour):', total_no_of_tweets/no_of_hours_passed)\n",
    "print('    Average number of followers of users:', sum(followers)/len(followers))\n",
    "print('    Average number of retweets:', total_no_of_retweets/total_no_of_tweets)"
   ]
  },
  {
   "cell_type": "markdown",
   "metadata": {},
   "source": [
    "## We will plot now the histogram for the no of tweets in hour over time"
   ]
  },
  {
   "cell_type": "code",
   "execution_count": 68,
   "metadata": {},
   "outputs": [],
   "source": [
    "no_of_hours = int((max(time_stamps)-min(time_stamps))/3600+1)\n",
    "hourly_tweet_count = [0] * no_of_hours"
   ]
  },
  {
   "cell_type": "code",
   "execution_count": 69,
   "metadata": {},
   "outputs": [],
   "source": [
    "## We want to get the data of no of tweets per hour.\n",
    "start_time = min(time_stamps)\n",
    "for time_stamp in time_stamps:\n",
    "    hourly_tweet_count[int((time_stamp-start_time)/3600)] += 1"
   ]
  },
  {
   "cell_type": "code",
   "execution_count": 72,
   "metadata": {},
   "outputs": [
    {
     "data": {
      "image/png": "[encoded data removed]",
      "text/plain": [
       "<Figure size 504x504 with 1 Axes>"
      ]
     },
     "metadata": {
      "needs_background": "light"
     },
     "output_type": "display_data"
    }
   ],
   "source": [
    "plt.figure(figsize = (7,7))\n",
    "plt.bar([i for i in range(0,len(hourly_tweet_count))], hourly_tweet_count, 1, align='edge', color = 'blue') #height = hourly_tweet_count, width = 1\n",
    "no_of_hours_passed = float(max(time_stamps)-min(time_stamps))/3600.0\n",
    "plt.axis([0,no_of_hours_passed+1,0,int(max(hourly_tweet_count)*1.03)])\n",
    "plt.xlabel('Time (in hours)', fontsize = 12)\n",
    "plt.ylabel('Number of Tweets', fontsize = 12)\n",
    "plt.title('Number of Tweets over time (' + '#GoHawks' + ')', fontsize = 16)\n",
    "plt.show()  "
   ]
  },
  {
   "cell_type": "markdown",
   "metadata": {},
   "source": [
    "We did this calculation for #GoHawks. We need to do this for all hashtags. It's very inconvenient to repeat all the steps above just for all hashtags. We will create functions for doing this. (Python, you're great!)"
   ]
  },
  {
   "cell_type": "markdown",
   "metadata": {},
   "source": [
    "## Calculating all data for all hashtags"
   ]
  },
  {
   "cell_type": "markdown",
   "metadata": {},
   "source": [
    "#### Histogram plot"
   ]
  },
  {
   "cell_type": "code",
   "execution_count": 73,
   "metadata": {},
   "outputs": [],
   "source": [
    "#-----------------------------Function to plot histogram-----------------------\n",
    "def histogram(time_stamps, hashtag):\n",
    "    hourly_tweet_count = [0] * int((max(time_stamps)-min(time_stamps))/3600+1)\n",
    "    start_time = min(time_stamps)\n",
    "    for time_stamp in time_stamps:\n",
    "        hourly_tweet_count[int((time_stamp-start_time)/3600)] += 1\n",
    "           \n",
    "    plt.figure(figsize = (7,7))\n",
    "    plt.bar([i for i in range(0,len(hourly_tweet_count))], hourly_tweet_count, 1, align='edge', color = 'blue')\n",
    "    no_of_hours_passed = float(max(time_stamps)-min(time_stamps))/3600.0\n",
    "    plt.axis([0,no_of_hours_passed+1,0,int(max(hourly_tweet_count)*1.03)])\n",
    "    plt.xlabel('Time (in hours)', fontsize = 12)\n",
    "    plt.ylabel('Number of Tweets', fontsize = 12)\n",
    "    plt.title('Number of Tweets over time (' + hashtag + ')', fontsize = 16)\n",
    "    plt.show()  \n",
    "#------------------------------------------------------------------------------ "
   ]
  },
  {
   "cell_type": "markdown",
   "metadata": {},
   "source": [
    "## Calculate the following\n",
    "\n",
    "* Average number of tweets per hour\n",
    "* Average number of followers of users posting the tweets\n",
    "* Average number of retweets."
   ]
  },
  {
   "cell_type": "code",
   "execution_count": 75,
   "metadata": {},
   "outputs": [],
   "source": [
    "#----------Function to calculate the required stats for each hashtag-----------\n",
    "def calculate_stats(hashtag):\n",
    "    hashtag_dictionary = {'#GoHawks' : 'tweets_#gohawks.txt',\n",
    "                          '#GoPatriots' : 'tweets_#gopatriots.txt',\n",
    "                          '#NFL' : 'tweets_#nfl.txt',\n",
    "                          '#Patriots' : 'tweets_#patriots.txt',\n",
    "                          '#SB49' : 'tweets_#sb49.txt',\n",
    "                          '#SuperBowl' : 'tweets_#superbowl.txt'}\n",
    "    \n",
    "    time_stamps = []\n",
    "    no_of_followers = []\n",
    "    no_of_retweets = []\n",
    "    followers_of_users = dict([])\n",
    "    \n",
    "    #--------------------To extract the data from the file-------------------\n",
    "    file_in = open('./Training_data/'+hashtag_dictionary[hashtag], encoding=\"utf8\")\n",
    "    for line in file_in:\n",
    "        tr_data = json.loads(line)\n",
    "        time_stamps.append(tr_data['citation_date'])\n",
    "        no_of_followers.append(tr_data['author']['followers'])\n",
    "        no_of_retweets.append(tr_data['metrics']['citations']['total'])\n",
    "        \n",
    "        username = tr_data['author']['nick']\n",
    "        if username in followers_of_users:\n",
    "            followers_of_users[username].append(tr_data['author']['followers'])\n",
    "        else:\n",
    "            followers_of_users[username] = [tr_data['author']['followers']]\n",
    "\n",
    "    file_in.close()\n",
    "    \n",
    "    #--------------------To calculate the related parameters-------------------\n",
    "    total_no_of_tweets = float(len(time_stamps))\n",
    "    \n",
    "    no_of_hours_passed = float(max(time_stamps)-min(time_stamps))/3600.0\n",
    "    \n",
    "    followers = []\n",
    "    for user in followers_of_users:\n",
    "        followers.append(float(sum(followers_of_users[user]))/float(len(followers_of_users[user])))\n",
    "        \n",
    "    total_no_of_retweets = float(sum(no_of_retweets))\n",
    "    \n",
    "    #----------------------------To print the results--------------------------\n",
    "    print('\\n------------------------------------------------------------\\n')\n",
    "    print('The statistics for', hashtag)\n",
    "    print('    Total number of tweets:', total_no_of_tweets)\n",
    "    print('    Total number of users:', len(followers))\n",
    "    print('    Average number of tweets (per hour):', total_no_of_tweets/no_of_hours_passed)\n",
    "    print('    Average number of followers of users:', sum(followers)/len(followers))\n",
    "    print('    Average number of retweets:', total_no_of_retweets/total_no_of_tweets)\n",
    "    \n",
    "    # We will plot histogram for #NFL, #SuperBowl. No particular reason.\n",
    "    if hashtag in ['#NFL', '#SuperBowl']:\n",
    "        histogram(time_stamps, hashtag)\n",
    "    "
   ]
  },
  {
   "cell_type": "code",
   "execution_count": 76,
   "metadata": {},
   "outputs": [
    {
     "name": "stdout",
     "output_type": "stream",
     "text": [
      "\n",
      "------------------------------------------------------------\n",
      "\n",
      "The statistics for #GoHawks\n",
      "    Total number of tweets: 188136.0\n",
      "    Total number of users: 77584\n",
      "    Average number of tweets (per hour): 325.37159130433116\n",
      "    Average number of followers of users: 1588.1886629300582\n",
      "    Average number of retweets: 2.014617085512608\n",
      "\n",
      "------------------------------------------------------------\n",
      "\n",
      "The statistics for #GoPatriots\n",
      "    Total number of tweets: 26232.0\n",
      "    Total number of users: 18087\n",
      "    Average number of tweets (per hour): 45.69451057356203\n",
      "    Average number of followers of users: 1294.4693664626748\n",
      "    Average number of retweets: 1.4000838670326319\n",
      "\n",
      "------------------------------------------------------------\n",
      "\n",
      "The statistics for #NFL\n",
      "    Total number of tweets: 259024.0\n",
      "    Total number of users: 75642\n",
      "    Average number of tweets (per hour): 441.3234311373958\n",
      "    Average number of followers of users: 4221.076987865717\n",
      "    Average number of retweets: 1.5385331089011056\n"
     ]
    },
    {
     "data": {
      "image/png": "[encoded data removed]",
      "text/plain": [
       "<Figure size 504x504 with 1 Axes>"
      ]
     },
     "metadata": {
      "needs_background": "light"
     },
     "output_type": "display_data"
    },
    {
     "name": "stdout",
     "output_type": "stream",
     "text": [
      "\n",
      "------------------------------------------------------------\n",
      "\n",
      "The statistics for #Patriots\n",
      "    Total number of tweets: 489713.0\n",
      "    Total number of users: 327326\n",
      "    Average number of tweets (per hour): 834.5555091641886\n",
      "    Average number of followers of users: 1695.2710621477224\n",
      "    Average number of retweets: 1.7828156491659402\n",
      "\n",
      "------------------------------------------------------------\n",
      "\n",
      "The statistics for #SB49\n",
      "    Total number of tweets: 826951.0\n",
      "    Total number of users: 590636\n",
      "    Average number of tweets (per hour): 1419.8879074871902\n",
      "    Average number of followers of users: 2250.850257742912\n",
      "    Average number of retweets: 2.5111487863247035\n",
      "\n",
      "------------------------------------------------------------\n",
      "\n",
      "The statistics for #SuperBowl\n",
      "    Total number of tweets: 1348767.0\n",
      "    Total number of users: 693087\n",
      "    Average number of tweets (per hour): 2302.5004018833274\n",
      "    Average number of followers of users: 3798.679117085927\n",
      "    Average number of retweets: 2.3882723999030224\n"
     ]
    },
    {
     "data": {
      "image/png": "[encoded data removed]",
      "text/plain": [
       "<Figure size 504x504 with 1 Axes>"
      ]
     },
     "metadata": {
      "needs_background": "light"
     },
     "output_type": "display_data"
    }
   ],
   "source": [
    "calculate_stats('#GoHawks')\n",
    "calculate_stats('#GoPatriots')\n",
    "calculate_stats('#NFL')\n",
    "calculate_stats('#Patriots')\n",
    "calculate_stats('#SB49')\n",
    "calculate_stats('#SuperBowl')"
   ]
  },
  {
   "cell_type": "markdown",
   "metadata": {},
   "source": [
    "# Linear regression model\n",
    "\n",
    "\n",
    "We will now use a linear regression model to predict the number of tweets in the next hour, if we are\n",
    "given the following 5 attributes extracted from the tweets in the previous hour:\n",
    "* Number of tweets\n",
    "* Total number of retweets\n",
    "* Sum of the number of followers of the users posting the hashtag\n",
    "* Maximum number of followers of the users posting the hashtag\n",
    "* Time of the day"
   ]
  },
  {
   "cell_type": "markdown",
   "metadata": {},
   "source": [
    "### We will first apply Linear Regression model for hashtag #GoHawks.\n",
    "\n",
    "This is for understanding purposes. We will also analyse the model's performance."
   ]
  },
  {
   "cell_type": "markdown",
   "metadata": {},
   "source": [
    "#### Importing required libraries"
   ]
  },
  {
   "cell_type": "code",
   "execution_count": 78,
   "metadata": {},
   "outputs": [],
   "source": [
    "import os # to create directory/folder\n",
    "import json #to load data\n",
    "import math # to find square root\n",
    "import numpy as np # to create array\n",
    "import pandas as pd # to read csv files\n",
    "from pandas import DataFrame #to create dataframe\n",
    "import statsmodels.api as sm #to give ordinary least squares summary report\n",
    "from sklearn.metrics import mean_squared_error #straightforward\n",
    "from sklearn.linear_model import LinearRegression #That's the purpose"
   ]
  },
  {
   "cell_type": "code",
   "execution_count": 80,
   "metadata": {},
   "outputs": [],
   "source": [
    "#This is a dictionary whose keys are hashtags and values are a list of txt file and the total no of tweets\n",
    "hashtag_dictionary = {'#GoHawks' : ['tweets_#gohawks.txt', 188136],\n",
    "                          '#GoPatriots' : ['tweets_#gopatriots.txt', 26232],\n",
    "                          '#NFL' : ['tweets_#nfl.txt', 259024],\n",
    "                          '#Patriots' : ['tweets_#patriots.txt', 489713],\n",
    "                          '#SB49' : ['tweets_#sb49.txt', 826951],\n",
    "                          '#SuperBowl' : ['tweets_#superbowl.txt', 1348767]}\n",
    "\n",
    "# We need to find the number of tweets per hour, total number of tweets per hour, Sum of the number of followers of \n",
    "#the users posting the hashtag per hour, Maximum number of followers of the users posting the hashtag per hour, Time of the day\n",
    "\n",
    "# We can first get the timestamp data, no of followers of users data. Retweet data will be obtained if tweet username and retweet\n",
    "# username are different.\n",
    "\n",
    "# Timestamp list will be the size of no of tweets.\n",
    "time_stamps = [0]*hashtag_dictionary['#GoHawks'][1]\n",
    "# is_retweet boolean list\n",
    "is_retweet = [False]*hashtag_dictionary['#GoHawks'][1]\n",
    "# You can easily fill the followers data.\n",
    "followers_of_users = [0]*hashtag_dictionary['#GoHawks'][1]\n",
    "\n",
    "#-----------------------To extract the data from the file------------------\n",
    "file_in = open('./Training_data/'+hashtag_dictionary['#GoHawks'][0], encoding=\"utf8\") #We already know why encoding is must.\n",
    "\n",
    "\n",
    "for (line, index) in zip(file_in, range(0, hashtag_dictionary['#GoHawks'][1])): #(line, index) tuple is created using zip.\n",
    "    tr_data = json.loads(line) #Load data\n",
    "    time_stamps[index] = tr_data['citation_date'] #for each index of list, timestamp is recorded.\n",
    "    followers_of_users[index] = tr_data['author']['followers'] #for each tweet posted by the user at that timestamp,\n",
    "                                                                #what's no of followers?\n",
    "    \n",
    "    username = tr_data['author']['nick']  #Take a peak at the data\n",
    "    original_username = tr_data['original_author']['nick']\n",
    "    if username != original_username:\n",
    "        is_retweet[index] = True #We can add it later on.\n",
    "        \n",
    "file_in.close()"
   ]
  },
  {
   "cell_type": "code",
   "execution_count": 92,
   "metadata": {},
   "outputs": [],
   "source": [
    "#No of hours passed is actually (max-min)/3600, but we will pass this value in range's stop value.\n",
    "no_of_hrs_passed = int((max(time_stamps)-min(time_stamps))/3600)+1 #579\n",
    "#No of tweets per hour. For that particular timestamp-min(timestamp) hour as index of the below list, add +1 as count value.\n",
    "hr_no_of_tweets = [0] * no_of_hrs_passed\n",
    "# If is_retweet == True, add +1 as count value \n",
    "hr_no_of_retweets = [0] * no_of_hrs_passed\n",
    "# Sum of followers per hour\n",
    "hr_sum_of_followers = [0] * no_of_hrs_passed\n",
    "# Max no of followers, that can be found using if statement\n",
    "hr_max_no_of_followers = [0] * no_of_hrs_passed  \n",
    "# Use %24\n",
    "hr_time_of_the_day = [0] * no_of_hrs_passed\n",
    "\n",
    "#Base timestamp\n",
    "start_time = min(time_stamps)\n",
    "\n",
    "for i in range(0, hashtag_dictionary['#GoHawks'][1]):\n",
    "    #Current hour will be the index for the above lists.\n",
    "    current_hr = int((time_stamps[i]-start_time)/3600)\n",
    "    #Count tweet value for each hour.\n",
    "    hr_no_of_tweets[current_hr] += 1\n",
    "    \n",
    "    #Count as retweet only if is_retweet == True (When username and original username are different)\n",
    "    if is_retweet[i]:\n",
    "        hr_no_of_retweets[current_hr] += 1\n",
    "    \n",
    "    #Add followers of users data for each i value out of 188136 to the place whose index is current hour\n",
    "    hr_sum_of_followers[current_hr] += followers_of_users[i]\n",
    "    \n",
    "    # straightforward logic:\n",
    "    if followers_of_users[i] > hr_max_no_of_followers[current_hr]:\n",
    "        hr_max_no_of_followers[current_hr] = followers_of_users[i]\n",
    "    \n",
    "for i in range(0, len(hr_time_of_the_day)):\n",
    "    hr_time_of_the_day[i] = i%24 # 0 to 24\n",
    "    "
   ]
  },
  {
   "cell_type": "markdown",
   "metadata": {},
   "source": [
    "###  Extracting data"
   ]
  },
  {
   "cell_type": "code",
   "execution_count": null,
   "metadata": {},
   "outputs": [],
   "source": []
  },
  {
   "cell_type": "code",
   "execution_count": 24,
   "metadata": {},
   "outputs": [],
   "source": [
    "def extract_info(hashtag):\n",
    "    hashtag_dictionary = {'#GoHawks' : ['tweets_#gohawks.txt', 188136],\n",
    "                          '#GoPatriots' : ['tweets_#gopatriots.txt', 26232],\n",
    "                          '#NFL' : ['tweets_#nfl.txt', 259024],\n",
    "                          '#Patriots' : ['tweets_#patriots.txt', 489713],\n",
    "                          '#SB49' : ['tweets_#sb49.txt', 826951],\n",
    "                          '#SuperBowl' : ['tweets_#superbowl.txt', 1348767]}\n",
    "    \n",
    "    time_stamps = [0]*hashtag_dictionary[hashtag][1]\n",
    "    is_retweet = [False]*hashtag_dictionary[hashtag][1]\n",
    "    followers_of_users = [0]*hashtag_dictionary[hashtag][1]\n",
    "    \n",
    "    #-----------------------To extract the data from the file------------------\n",
    "    file_in = open('./Training_data/'+hashtag_dictionary[hashtag][0], encoding=\"utf8\")\n",
    "    for (line, index) in zip(file_in, range(0, hashtag_dictionary[hashtag][1])):\n",
    "        tr_data = json.loads(line)\n",
    "        time_stamps[index] = tr_data['citation_date']\n",
    "        followers_of_users[index] = tr_data['author']['followers']\n",
    "\n",
    "        username = tr_data['author']['nick']\n",
    "        original_username = tr_data['original_author']['nick']\n",
    "        if username != original_username:\n",
    "            is_retweet[index] = True\n",
    "        \n",
    "    file_in.close()\n",
    "    \n",
    "    #--------------------To calculate the related parameters-------------------\n",
    "    no_of_hrs_passed = int((max(time_stamps)-min(time_stamps))/3600)+1\n",
    "    hr_no_of_tweets = [0] * no_of_hrs_passed\n",
    "    hr_no_of_retweets = [0] * no_of_hrs_passed\n",
    "    hr_sum_of_followers = [0] * no_of_hrs_passed\n",
    "    hr_max_no_of_followers = [0] * no_of_hrs_passed\n",
    "    hr_time_of_the_day = [0] * no_of_hrs_passed\n",
    "    \n",
    "    start_time = min(time_stamps)\n",
    "    \n",
    "    for i in range(0, hashtag_dictionary[hashtag][1]):\n",
    "        current_hr = int((time_stamps[i]-start_time)/3600)\n",
    "        hr_no_of_tweets[current_hr] += 1\n",
    "        \n",
    "        if is_retweet[i]:\n",
    "            hr_no_of_retweets[current_hr] += 1\n",
    "                                      \n",
    "        hr_sum_of_followers[current_hr] += followers_of_users[i]\n",
    "    \n",
    "        if followers_of_users[i] > hr_max_no_of_followers[current_hr]:\n",
    "            hr_max_no_of_followers[current_hr] = followers_of_users[i]\n",
    "    \n",
    "    for i in range(0, len(hr_time_of_the_day)):\n",
    "        hr_time_of_the_day[i] = i%24\n",
    "    \n",
    "    #------------------To build the DataFrame and save it to file--------------\n",
    "    target = hr_no_of_tweets[1:]\n",
    "    target.append(0)\n",
    "    \n",
    "    data = np.array([hr_no_of_tweets,\n",
    "                     hr_no_of_retweets,\n",
    "                     hr_sum_of_followers,\n",
    "                     hr_max_no_of_followers,\n",
    "                     hr_time_of_the_day,\n",
    "                     target])\n",
    "    data = np.transpose(data)\n",
    "    \n",
    "    data_frame = DataFrame(data)\n",
    "    data_frame.columns = ['no_of_tweets', \n",
    "                          'no_of_retweets', \n",
    "                          'sum_of_followers',\n",
    "                          'max_no_of_followers',\n",
    "                          'time_of_the_day',\n",
    "                          'target']\n",
    "    \n",
    "    if os.path.isdir('./Extracted_data'):\n",
    "        pass\n",
    "    else:\n",
    "        os.mkdir('./Extracted_data')\n",
    "\n",
    "    data_frame.to_csv('./Extracted_data/data_'+hashtag+'.csv', index = False)   \n",
    "#------------------------------------------------------------------------------      \n"
   ]
  },
  {
   "cell_type": "markdown",
   "metadata": {},
   "source": [
    "### Linear regression function for each hashtag"
   ]
  },
  {
   "cell_type": "code",
   "execution_count": 25,
   "metadata": {},
   "outputs": [],
   "source": [
    "\n",
    "#-------------------Function to perform Linear Regression----------------------\n",
    "def linear_regression(hashtag):\n",
    "    training_data = pd.read_csv('./Extracted_data/data_'+hashtag+'.csv')\n",
    "    \n",
    "    #----------------------------One-hot Encoding------------------------------\n",
    "    time_of_day_set = range(0,24)\n",
    "    for time_of_day in time_of_day_set:\n",
    "        time_of_day_column_to_add = []\n",
    "        for time_of_day_item in training_data['time_of_the_day']:\n",
    "            if time_of_day_item == time_of_day:\n",
    "                time_of_day_column_to_add.append(1)\n",
    "            else:\n",
    "                time_of_day_column_to_add.append(0)\n",
    "        training_data.insert(training_data.shape[1]-1,\n",
    "                             str(time_of_day)+'th_hour',\n",
    "                             time_of_day_column_to_add)\n",
    "        \n",
    "    #---------------------------Linear Regression------------------------------\n",
    "    training_data.drop('time_of_the_day', 1, inplace = True)\n",
    "    target_data = training_data.pop('target')\n",
    "    \n",
    "    lin_reg = LinearRegression(fit_intercept = False)\n",
    "    lin_reg_result = lin_reg.fit(training_data, target_data)\n",
    "    \n",
    "    predicted_values = lin_reg_result.predict(training_data)\n",
    "    \n",
    "    print('R-squared measure:') \n",
    "    print(lin_reg_result.score(training_data, target_data))\n",
    "    print('RMSE:')\n",
    "    print(math.sqrt(mean_squared_error(target_data,predicted_values)))\n",
    "\n",
    "    #-----------------------------To perform the t-test------------------------\n",
    "    model = sm.OLS(target_data, training_data)\n",
    "    results = model.fit()\n",
    "    print(results.summary())\n",
    "\n",
    "#------------------------------------------------------------------------------      \n",
    "    "
   ]
  },
  {
   "cell_type": "markdown",
   "metadata": {},
   "source": [
    "### Performing linear regression"
   ]
  },
  {
   "cell_type": "code",
   "execution_count": 26,
   "metadata": {},
   "outputs": [],
   "source": [
    "def perform_linear_regression(hashtag):\n",
    "    print('-------------------------------------------------------')\n",
    "    print('Processing the hashtag \"' + hashtag + '\".\\n')\n",
    "    extract_info(hashtag)\n",
    "    linear_regression(hashtag)"
   ]
  },
  {
   "cell_type": "code",
   "execution_count": 27,
   "metadata": {},
   "outputs": [
    {
     "name": "stdout",
     "output_type": "stream",
     "text": [
      "-------------------------------------------------------\n",
      "Processing the hashtag \"#GoHawks\".\n",
      "\n",
      "R-squared measure:\n",
      "0.5319363909601449\n",
      "RMSE:\n",
      "910.9921996805795\n",
      "                            OLS Regression Results                            \n",
      "==============================================================================\n",
      "Dep. Variable:                 target   R-squared:                       0.532\n",
      "Model:                            OLS   Adj. R-squared:                  0.509\n",
      "Method:                 Least Squares   F-statistic:                     23.19\n",
      "Date:                Wed, 27 Mar 2019   Prob (F-statistic):           1.44e-73\n",
      "Time:                        18:44:44   Log-Likelihood:                -4767.2\n",
      "No. Observations:                 579   AIC:                             9590.\n",
      "Df Residuals:                     551   BIC:                             9712.\n",
      "Df Model:                          27                                         \n",
      "Covariance Type:            nonrobust                                         \n",
      "=======================================================================================\n",
      "                          coef    std err          t      P>|t|      [0.025      0.975]\n",
      "---------------------------------------------------------------------------------------\n",
      "no_of_tweets            1.4237      0.164      8.659      0.000       1.101       1.747\n",
      "no_of_retweets        -19.8237      3.889     -5.097      0.000     -27.463     -12.184\n",
      "sum_of_followers       -0.0003   8.51e-05     -3.270      0.001      -0.000      -0.000\n",
      "max_no_of_followers     0.0002      0.000      1.126      0.261      -0.000       0.001\n",
      "0th_hour               16.9938    187.031      0.091      0.928    -350.387     384.375\n",
      "1th_hour               12.1762    186.821      0.065      0.948    -354.793     379.145\n",
      "2th_hour                3.2168    186.790      0.017      0.986    -363.691     370.124\n",
      "3th_hour               23.4880    190.666      0.123      0.902    -351.034     398.010\n",
      "4th_hour               34.2407    190.662      0.180      0.858    -340.273     408.754\n",
      "5th_hour               52.2219    190.884      0.274      0.785    -322.727     427.171\n",
      "6th_hour              120.2952    190.978      0.630      0.529    -254.838     495.428\n",
      "7th_hour              142.3044    190.957      0.745      0.456    -232.788     517.397\n",
      "8th_hour              205.6231    193.187      1.064      0.288    -173.850     585.096\n",
      "9th_hour              197.4692    191.701      1.030      0.303    -179.085     574.023\n",
      "10th_hour             324.2885    191.838      1.690      0.092     -52.535     701.112\n",
      "11th_hour             215.3796    191.699      1.124      0.262    -161.170     591.929\n",
      "12th_hour              17.7893    192.423      0.092      0.926    -360.182     395.761\n",
      "13th_hour             253.5218    192.556      1.317      0.189    -124.711     631.755\n",
      "14th_hour             999.8690    193.175      5.176      0.000     620.420    1379.318\n",
      "15th_hour            -243.6088    198.152     -1.229      0.219    -632.835     145.618\n",
      "16th_hour             199.9072    193.022      1.036      0.301    -179.241     579.055\n",
      "17th_hour             172.4385    193.656      0.890      0.374    -207.955     552.832\n",
      "18th_hour            -130.1525    192.812     -0.675      0.500    -508.889     248.583\n",
      "19th_hour             -16.4555    197.652     -0.083      0.934    -404.699     371.788\n",
      "20th_hour             157.2451    193.179      0.814      0.416    -222.213     536.703\n",
      "21th_hour              85.4406    193.508      0.442      0.659    -294.662     465.543\n",
      "22th_hour              26.5137    191.449      0.138      0.890    -349.545     402.572\n",
      "23th_hour              -7.8748    190.873     -0.041      0.967    -382.803     367.053\n",
      "==============================================================================\n",
      "Omnibus:                      854.260   Durbin-Watson:                   2.193\n",
      "Prob(Omnibus):                  0.000   Jarque-Bera (JB):           683918.794\n",
      "Skew:                           7.479   Prob(JB):                         0.00\n",
      "Kurtosis:                     170.706   Cond. No.                     1.62e+07\n",
      "==============================================================================\n",
      "\n",
      "Warnings:\n",
      "[1] Standard Errors assume that the covariance matrix of the errors is correctly specified.\n",
      "[2] The condition number is large, 1.62e+07. This might indicate that there are\n",
      "strong multicollinearity or other numerical problems.\n",
      "-------------------------------------------------------\n",
      "Processing the hashtag \"#GoPatriots\".\n",
      "\n",
      "R-squared measure:\n",
      "0.6266386783895448\n",
      "RMSE:\n",
      "188.2116004251095\n",
      "                            OLS Regression Results                            \n",
      "==============================================================================\n",
      "Dep. Variable:                 target   R-squared:                       0.627\n",
      "Model:                            OLS   Adj. R-squared:                  0.608\n",
      "Method:                 Least Squares   F-statistic:                     34.00\n",
      "Date:                Wed, 27 Mar 2019   Prob (F-statistic):           6.50e-99\n",
      "Time:                        18:44:48   Log-Likelihood:                -3827.5\n",
      "No. Observations:                 575   AIC:                             7711.\n",
      "Df Residuals:                     547   BIC:                             7833.\n",
      "Df Model:                          27                                         \n",
      "Covariance Type:            nonrobust                                         \n",
      "=======================================================================================\n",
      "                          coef    std err          t      P>|t|      [0.025      0.975]\n",
      "---------------------------------------------------------------------------------------\n",
      "no_of_tweets            0.2511      0.203      1.236      0.217      -0.148       0.650\n",
      "no_of_retweets        -10.9993      3.836     -2.867      0.004     -18.535      -3.464\n",
      "sum_of_followers        0.0006      0.000      3.230      0.001       0.000       0.001\n",
      "max_no_of_followers    -0.0007      0.000     -3.548      0.000      -0.001      -0.000\n",
      "0th_hour                3.1339     39.392      0.080      0.937     -74.245      80.512\n",
      "1th_hour                3.7415     39.391      0.095      0.924     -73.634      81.117\n",
      "2th_hour                6.1516     39.394      0.156      0.876     -71.231      83.535\n",
      "3th_hour                9.5014     39.413      0.241      0.810     -67.918      86.921\n",
      "4th_hour               10.9079     39.429      0.277      0.782     -66.543      88.359\n",
      "5th_hour               11.4425     39.409      0.290      0.772     -65.970      88.855\n",
      "6th_hour                9.7617     39.410      0.248      0.804     -67.651      87.174\n",
      "7th_hour               20.9183     39.428      0.531      0.596     -56.531      98.368\n",
      "8th_hour               15.4460     39.403      0.392      0.695     -61.953      92.845\n",
      "9th_hour               23.8400     39.557      0.603      0.547     -53.862     101.542\n",
      "10th_hour              14.1391     39.437      0.359      0.720     -63.328      91.606\n",
      "11th_hour              33.6158     40.157      0.837      0.403     -45.265     112.497\n",
      "12th_hour             119.8666     39.450      3.038      0.002      42.374     197.359\n",
      "13th_hour              49.6551     39.945      1.243      0.214     -28.810     128.120\n",
      "14th_hour             -22.2959     40.144     -0.555      0.579    -101.151      56.559\n",
      "15th_hour             112.0844     39.919      2.808      0.005      33.671     190.497\n",
      "16th_hour              80.0945     39.711      2.017      0.044       2.089     158.100\n",
      "17th_hour            -122.2721     39.740     -3.077      0.002    -200.335     -44.210\n",
      "18th_hour              13.7698     39.708      0.347      0.729     -64.229      91.769\n",
      "19th_hour               7.9766     39.415      0.202      0.840     -69.447      85.400\n",
      "20th_hour               7.8640     39.419      0.199      0.842     -69.567      85.295\n",
      "21th_hour               6.7570     39.440      0.171      0.864     -70.715      84.229\n",
      "22th_hour               2.7549     39.393      0.070      0.944     -74.625      80.135\n",
      "23th_hour               2.9905     40.239      0.074      0.941     -76.051      82.032\n",
      "==============================================================================\n",
      "Omnibus:                      272.512   Durbin-Watson:                   2.136\n",
      "Prob(Omnibus):                  0.000   Jarque-Bera (JB):           358447.958\n",
      "Skew:                          -0.297   Prob(JB):                         0.00\n",
      "Kurtosis:                     125.315   Cond. No.                     2.16e+06\n",
      "==============================================================================\n",
      "\n",
      "Warnings:\n",
      "[1] Standard Errors assume that the covariance matrix of the errors is correctly specified.\n",
      "[2] The condition number is large, 2.16e+06. This might indicate that there are\n",
      "strong multicollinearity or other numerical problems.\n",
      "-------------------------------------------------------\n",
      "Processing the hashtag \"#NFL\".\n",
      "\n"
     ]
    },
    {
     "name": "stdout",
     "output_type": "stream",
     "text": [
      "R-squared measure:\n",
      "0.584841893065233\n",
      "RMSE:\n",
      "567.10528140252\n",
      "                            OLS Regression Results                            \n",
      "==============================================================================\n",
      "Dep. Variable:                 target   R-squared:                       0.585\n",
      "Model:                            OLS   Adj. R-squared:                  0.565\n",
      "Method:                 Least Squares   F-statistic:                     29.17\n",
      "Date:                Wed, 27 Mar 2019   Prob (F-statistic):           7.38e-89\n",
      "Time:                        18:45:47   Log-Likelihood:                -4554.8\n",
      "No. Observations:                 587   AIC:                             9166.\n",
      "Df Residuals:                     559   BIC:                             9288.\n",
      "Df Model:                          27                                         \n",
      "Covariance Type:            nonrobust                                         \n",
      "=======================================================================================\n",
      "                          coef    std err          t      P>|t|      [0.025      0.975]\n",
      "---------------------------------------------------------------------------------------\n",
      "no_of_tweets            0.4752      0.103      4.601      0.000       0.272       0.678\n",
      "no_of_retweets         -1.5832      2.807     -0.564      0.573      -7.096       3.930\n",
      "sum_of_followers     7.315e-05   2.65e-05      2.756      0.006     2.1e-05       0.000\n",
      "max_no_of_followers -9.432e-05    3.7e-05     -2.547      0.011      -0.000   -2.16e-05\n",
      "0th_hour               56.3083    116.806      0.482      0.630    -173.124     285.741\n",
      "1th_hour               67.4735    116.873      0.577      0.564    -162.091     297.038\n",
      "2th_hour               76.3124    116.595      0.655      0.513    -152.705     305.330\n",
      "3th_hour               92.3850    116.643      0.792      0.429    -136.727     321.497\n",
      "4th_hour               83.8884    116.783      0.718      0.473    -145.500     313.276\n",
      "5th_hour              169.5487    116.801      1.452      0.147     -59.874     398.971\n",
      "6th_hour              196.7151    117.237      1.678      0.094     -33.563     426.993\n",
      "7th_hour              149.7344    117.061      1.279      0.201     -80.199     379.668\n",
      "8th_hour              166.4218    117.790      1.413      0.158     -64.943     397.787\n",
      "9th_hour              120.6821    117.350      1.028      0.304    -109.818     351.182\n",
      "10th_hour             237.9457    117.583      2.024      0.043       6.986     468.905\n",
      "11th_hour             244.0414    120.708      2.022      0.044       6.945     481.138\n",
      "12th_hour              83.3442    120.386      0.692      0.489    -153.121     319.809\n",
      "13th_hour             220.2633    121.927      1.807      0.071     -19.229     459.755\n",
      "14th_hour             634.0510    121.109      5.235      0.000     396.167     871.934\n",
      "15th_hour              15.7214    123.964      0.127      0.899    -227.771     259.213\n",
      "16th_hour             269.0316    122.193      2.202      0.028      29.018     509.045\n",
      "17th_hour             218.6963    125.524      1.742      0.082     -27.860     465.253\n",
      "18th_hour             283.3371    122.493      2.313      0.021      42.734     523.940\n",
      "19th_hour            -198.0234    122.052     -1.622      0.105    -437.760      41.713\n",
      "20th_hour              86.8392    120.082      0.723      0.470    -149.027     322.706\n",
      "21th_hour              81.4536    119.888      0.679      0.497    -154.032     316.939\n",
      "22th_hour              33.0973    119.432      0.277      0.782    -201.494     267.688\n",
      "23th_hour              63.9559    119.234      0.536      0.592    -170.245     298.156\n",
      "==============================================================================\n",
      "Omnibus:                      581.889   Durbin-Watson:                   2.364\n",
      "Prob(Omnibus):                  0.000   Jarque-Bera (JB):           286567.909\n",
      "Skew:                           3.503   Prob(JB):                         0.00\n",
      "Kurtosis:                     111.016   Cond. No.                     2.97e+07\n",
      "==============================================================================\n",
      "\n",
      "Warnings:\n",
      "[1] Standard Errors assume that the covariance matrix of the errors is correctly specified.\n",
      "[2] The condition number is large, 2.97e+07. This might indicate that there are\n",
      "strong multicollinearity or other numerical problems.\n",
      "-------------------------------------------------------\n",
      "Processing the hashtag \"#Patriots\".\n",
      "\n",
      "R-squared measure:\n",
      "0.7227654449104268\n",
      "RMSE:\n",
      "2302.118322202846\n",
      "                            OLS Regression Results                            \n",
      "==============================================================================\n",
      "Dep. Variable:                 target   R-squared:                       0.723\n",
      "Model:                            OLS   Adj. R-squared:                  0.709\n",
      "Method:                 Least Squares   F-statistic:                     53.98\n",
      "Date:                Wed, 27 Mar 2019   Prob (F-statistic):          9.92e-137\n",
      "Time:                        18:47:54   Log-Likelihood:                -5377.2\n",
      "No. Observations:                 587   AIC:                         1.081e+04\n",
      "Df Residuals:                     559   BIC:                         1.093e+04\n",
      "Df Model:                          27                                         \n",
      "Covariance Type:            nonrobust                                         \n",
      "=======================================================================================\n",
      "                          coef    std err          t      P>|t|      [0.025      0.975]\n",
      "---------------------------------------------------------------------------------------\n",
      "no_of_tweets            0.8230      0.039     21.051      0.000       0.746       0.900\n",
      "no_of_retweets        -19.7359      3.548     -5.562      0.000     -26.706     -12.766\n",
      "sum_of_followers     3.505e-05   2.54e-05      1.382      0.168   -1.48e-05    8.49e-05\n",
      "max_no_of_followers     0.0001   9.69e-05      1.402      0.161   -5.45e-05       0.000\n",
      "0th_hour               59.0273    472.067      0.125      0.901    -868.216     986.270\n",
      "1th_hour               47.4428    471.927      0.101      0.920    -879.524     974.409\n",
      "2th_hour               50.7466    471.983      0.108      0.914    -876.330     977.823\n",
      "3th_hour               77.6890    472.291      0.164      0.869    -849.993    1005.371\n",
      "4th_hour               79.4322    473.004      0.168      0.867    -849.650    1008.515\n",
      "5th_hour               76.4594    474.558      0.161      0.872    -855.676    1008.594\n",
      "6th_hour               70.7354    473.728      0.149      0.881    -859.769    1001.240\n",
      "7th_hour               21.2432    476.106      0.045      0.964    -913.932     956.419\n",
      "8th_hour               96.7734    473.981      0.204      0.838    -834.228    1027.774\n",
      "9th_hour              500.0589    474.386      1.054      0.292    -431.738    1431.856\n",
      "10th_hour            1805.4470    474.871      3.802      0.000     872.696    2738.198\n",
      "11th_hour             -44.4154    487.337     -0.091      0.927   -1001.651     912.820\n",
      "12th_hour            -306.7086    489.203     -0.627      0.531   -1267.609     654.192\n",
      "13th_hour              31.0503    488.518      0.064      0.949    -928.505     990.606\n",
      "14th_hour             435.8040    491.708      0.886      0.376    -530.017    1401.625\n",
      "15th_hour             -78.9151    492.324     -0.160      0.873   -1045.946     888.115\n",
      "16th_hour            -463.0496    498.382     -0.929      0.353   -1441.979     515.880\n",
      "17th_hour            1203.5731    486.460      2.474      0.014     248.061    2159.085\n",
      "18th_hour             -92.8105    490.764     -0.189      0.850   -1056.778     871.157\n",
      "19th_hour            -841.7744    484.449     -1.738      0.083   -1793.337     109.788\n",
      "20th_hour             271.5677    491.369      0.553      0.581    -693.587    1236.722\n",
      "21th_hour              68.8244    483.349      0.142      0.887    -880.578    1018.226\n",
      "22th_hour              95.4799    482.402      0.198      0.843    -852.062    1043.022\n",
      "23th_hour              28.7491    482.046      0.060      0.952    -918.094     975.593\n",
      "==============================================================================\n",
      "Omnibus:                      974.392   Durbin-Watson:                   1.943\n",
      "Prob(Omnibus):                  0.000   Jarque-Bera (JB):           835105.074\n",
      "Skew:                           9.619   Prob(JB):                         0.00\n",
      "Kurtosis:                     186.777   Cond. No.                     5.27e+07\n",
      "==============================================================================\n",
      "\n",
      "Warnings:\n",
      "[1] Standard Errors assume that the covariance matrix of the errors is correctly specified.\n",
      "[2] The condition number is large, 5.27e+07. This might indicate that there are\n",
      "strong multicollinearity or other numerical problems.\n",
      "-------------------------------------------------------\n",
      "Processing the hashtag \"#SB49\".\n",
      "\n"
     ]
    },
    {
     "name": "stdout",
     "output_type": "stream",
     "text": [
      "R-squared measure:\n",
      "0.8565548094755735\n",
      "RMSE:\n",
      "3799.8433322883748\n",
      "                            OLS Regression Results                            \n",
      "==============================================================================\n",
      "Dep. Variable:                 target   R-squared:                       0.857\n",
      "Model:                            OLS   Adj. R-squared:                  0.850\n",
      "Method:                 Least Squares   F-statistic:                     122.7\n",
      "Date:                Wed, 27 Mar 2019   Prob (F-statistic):          3.81e-214\n",
      "Time:                        18:51:12   Log-Likelihood:                -5632.7\n",
      "No. Observations:                 583   AIC:                         1.132e+04\n",
      "Df Residuals:                     555   BIC:                         1.144e+04\n",
      "Df Model:                          27                                         \n",
      "Covariance Type:            nonrobust                                         \n",
      "=======================================================================================\n",
      "                          coef    std err          t      P>|t|      [0.025      0.975]\n",
      "---------------------------------------------------------------------------------------\n",
      "no_of_tweets            0.9414      0.030     31.904      0.000       0.883       0.999\n",
      "no_of_retweets        -75.1845     10.554     -7.124      0.000     -95.916     -54.453\n",
      "sum_of_followers     3.355e-06   4.49e-06      0.748      0.455   -5.46e-06    1.22e-05\n",
      "max_no_of_followers     0.0002   4.15e-05      4.185      0.000    9.23e-05       0.000\n",
      "0th_hour              -70.8379    780.105     -0.091      0.928   -1603.158    1461.482\n",
      "1th_hour             -102.1442    782.115     -0.131      0.896   -1638.412    1434.124\n",
      "2th_hour             -164.2185    782.418     -0.210      0.834   -1701.082    1372.645\n",
      "3th_hour             -197.2752    782.395     -0.252      0.801   -1734.093    1339.542\n",
      "4th_hour             -256.9267    786.731     -0.327      0.744   -1802.261    1288.407\n",
      "5th_hour             2494.5636    785.829      3.174      0.002     951.000    4038.127\n",
      "6th_hour             1319.3125    785.055      1.681      0.093    -222.729    2861.354\n",
      "7th_hour            -1295.7993    807.914     -1.604      0.109   -2882.742     291.144\n",
      "8th_hour            -1039.8350    803.523     -1.294      0.196   -2618.153     538.483\n",
      "9th_hour               30.3122    819.470      0.037      0.971   -1579.329    1639.953\n",
      "10th_hour            -182.7876    809.576     -0.226      0.821   -1772.996    1407.421\n",
      "11th_hour             205.5069    804.837      0.255      0.799   -1375.392    1786.406\n",
      "12th_hour            -430.8907    817.501     -0.527      0.598   -2036.664    1174.883\n",
      "13th_hour           -1031.0163    804.730     -1.281      0.201   -2611.704     549.672\n",
      "14th_hour           -1397.9380    797.865     -1.752      0.080   -2965.143     169.267\n",
      "15th_hour             -65.5140    799.750     -0.082      0.935   -1636.421    1505.393\n",
      "16th_hour             -50.2012    799.358     -0.063      0.950   -1620.339    1519.936\n",
      "17th_hour            -292.5488    803.164     -0.364      0.716   -1870.161    1285.063\n",
      "18th_hour             -59.0724    795.882     -0.074      0.941   -1622.381    1504.237\n",
      "19th_hour            -174.8924    797.157     -0.219      0.826   -1740.706    1390.921\n",
      "20th_hour            -136.8856    795.658     -0.172      0.863   -1699.754    1425.983\n",
      "21th_hour              -6.9382    795.166     -0.009      0.993   -1568.841    1554.965\n",
      "22th_hour              40.7550    795.142      0.051      0.959   -1521.100    1602.610\n",
      "23th_hour              41.0264    795.259      0.052      0.959   -1521.059    1603.112\n",
      "==============================================================================\n",
      "Omnibus:                      945.198   Durbin-Watson:                   1.327\n",
      "Prob(Omnibus):                  0.000   Jarque-Bera (JB):           749151.776\n",
      "Skew:                           9.166   Prob(JB):                         0.00\n",
      "Kurtosis:                     177.653   Cond. No.                     4.82e+08\n",
      "==============================================================================\n",
      "\n",
      "Warnings:\n",
      "[1] Standard Errors assume that the covariance matrix of the errors is correctly specified.\n",
      "[2] The condition number is large, 4.82e+08. This might indicate that there are\n",
      "strong multicollinearity or other numerical problems.\n",
      "-------------------------------------------------------\n",
      "Processing the hashtag \"#SuperBowl\".\n",
      "\n",
      "R-squared measure:\n",
      "0.8702522609044261\n",
      "RMSE:\n",
      "6433.372471300712\n",
      "                            OLS Regression Results                            \n",
      "==============================================================================\n",
      "Dep. Variable:                 target   R-squared:                       0.870\n",
      "Model:                            OLS   Adj. R-squared:                  0.864\n",
      "Method:                 Least Squares   F-statistic:                     138.6\n",
      "Date:                Wed, 27 Mar 2019   Prob (F-statistic):          1.86e-227\n",
      "Time:                        18:58:18   Log-Likelihood:                -5970.3\n",
      "No. Observations:                 586   AIC:                         1.200e+04\n",
      "Df Residuals:                     558   BIC:                         1.212e+04\n",
      "Df Model:                          27                                         \n",
      "Covariance Type:            nonrobust                                         \n",
      "=======================================================================================\n",
      "                          coef    std err          t      P>|t|      [0.025      0.975]\n",
      "---------------------------------------------------------------------------------------\n",
      "no_of_tweets            2.2978      0.084     27.221      0.000       2.132       2.464\n",
      "no_of_retweets         -3.9616      1.741     -2.275      0.023      -7.381      -0.542\n",
      "sum_of_followers       -0.0002    1.2e-05    -19.193      0.000      -0.000      -0.000\n",
      "max_no_of_followers     0.0011      0.000      9.488      0.000       0.001       0.001\n",
      "0th_hour            -1152.9726   1329.978     -0.867      0.386   -3765.347    1459.402\n",
      "1th_hour             -523.1336   1320.899     -0.396      0.692   -3117.676    2071.408\n",
      "2th_hour             -320.5040   1321.701     -0.242      0.808   -2916.622    2275.614\n",
      "3th_hour             -754.8762   1327.757     -0.569      0.570   -3362.888    1853.136\n",
      "4th_hour             -325.6119   1322.931     -0.246      0.806   -2924.145    2272.921\n",
      "5th_hour             -656.1878   1335.849     -0.491      0.623   -3280.096    1967.720\n",
      "6th_hour             -210.0972   1330.078     -0.158      0.875   -2822.669    2402.474\n",
      "7th_hour             -707.7970   1337.028     -0.529      0.597   -3334.019    1918.425\n",
      "8th_hour              -50.0254   1340.333     -0.037      0.970   -2682.741    2582.690\n",
      "9th_hour             -659.1034   1337.665     -0.493      0.622   -3286.578    1968.371\n",
      "10th_hour            -954.4856   1376.758     -0.693      0.488   -3658.747    1749.776\n",
      "11th_hour            -460.5540   1373.900     -0.335      0.738   -3159.202    2238.094\n",
      "12th_hour            -182.9047   1365.986     -0.134      0.894   -2866.008    2500.198\n",
      "13th_hour             981.7322   1375.887      0.714      0.476   -1720.818    3684.283\n",
      "14th_hour            5249.6969   1390.505      3.775      0.000    2518.433    7980.961\n",
      "15th_hour           -2006.0965   1395.997     -1.437      0.151   -4748.148     735.955\n",
      "16th_hour           -1450.4399   1388.073     -1.045      0.297   -4176.926    1276.047\n",
      "17th_hour              24.4359   1389.325      0.018      0.986   -2704.509    2753.381\n",
      "18th_hour           -2880.8218   1370.936     -2.101      0.036   -5573.647    -187.997\n",
      "19th_hour           -3352.1905   1369.294     -2.448      0.015   -6041.791    -662.590\n",
      "20th_hour           -1327.1132   1361.904     -0.974      0.330   -4002.199    1347.972\n",
      "21th_hour           -1105.3829   1355.967     -0.815      0.415   -3768.806    1558.040\n",
      "22th_hour            -799.4634   1351.176     -0.592      0.554   -3453.476    1854.549\n",
      "23th_hour           -1423.8574   1358.102     -1.048      0.295   -4091.475    1243.760\n",
      "==============================================================================\n",
      "Omnibus:                     1121.631   Durbin-Watson:                   1.721\n",
      "Prob(Omnibus):                  0.000   Jarque-Bera (JB):          1763400.781\n",
      "Skew:                          12.869   Prob(JB):                         0.00\n",
      "Kurtosis:                     270.505   Cond. No.                     7.60e+08\n",
      "==============================================================================\n",
      "\n",
      "Warnings:\n",
      "[1] Standard Errors assume that the covariance matrix of the errors is correctly specified.\n",
      "[2] The condition number is large, 7.6e+08. This might indicate that there are\n",
      "strong multicollinearity or other numerical problems.\n"
     ]
    }
   ],
   "source": [
    "perform_linear_regression('#GoHawks')\n",
    "perform_linear_regression('#GoPatriots')\n",
    "perform_linear_regression('#NFL')\n",
    "perform_linear_regression('#Patriots')\n",
    "perform_linear_regression('#SB49')\n",
    "perform_linear_regression('#SuperBowl')"
   ]
  },
  {
   "cell_type": "code",
   "execution_count": null,
   "metadata": {},
   "outputs": [],
   "source": []
  }
 ],
 "metadata": {
  "kernelspec": {
   "display_name": "Python 3",
   "language": "python",
   "name": "python3"
  },
  "language_info": {
   "codemirror_mode": {
    "name": "ipython",
    "version": 3
   },
   "file_extension": ".py",
   "mimetype": "text/x-python",
   "name": "python",
   "nbconvert_exporter": "python",
   "pygments_lexer": "ipython3",
   "version": "3.7.1"
  }
 },
 "nbformat": 4,
 "nbformat_minor": 2
}
